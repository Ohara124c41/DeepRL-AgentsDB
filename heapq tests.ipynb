{
 "cells": [
  {
   "cell_type": "code",
   "execution_count": 30,
   "metadata": {
    "collapsed": true
   },
   "outputs": [],
   "source": [
    "from heapq import *\n",
    "import numpy as np"
   ]
  },
  {
   "cell_type": "code",
   "execution_count": 31,
   "metadata": {},
   "outputs": [
    {
     "data": {
      "text/plain": [
       "[0, 1, 2, 3, 4, 5, 6, 7, 8, 9]"
      ]
     },
     "execution_count": 31,
     "metadata": {},
     "output_type": "execute_result"
    }
   ],
   "source": [
    "def heapsort(iterable):\n",
    "    h = []\n",
    "    for value in iterable:\n",
    "        heappush(h, value)\n",
    "    return [heappop(h) for i in range(len(h))]\n",
    "heapsort([1, 3, 5, 7, 9, 2, 4, 6, 8, 0])"
   ]
  },
  {
   "cell_type": "code",
   "execution_count": null,
   "metadata": {
    "collapsed": true
   },
   "outputs": [],
   "source": []
  },
  {
   "cell_type": "code",
   "execution_count": 62,
   "metadata": {},
   "outputs": [
    {
     "name": "stdout",
     "output_type": "stream",
     "text": [
      "<class 'list'>\n",
      "[(29, 2, 0.2, 26), (29, 2, 0.25, 26), (29, 2, 0.5, 26), (29, 2, 1.0, 26), (29, 2, 0.3333333333333333, 26)]\n",
      "[(29, 2, 0.2, 26), (29, 2, 0.25, 26), (29, 2, 0.3333333333333333, 26), (29, 2, 0.5, 26), (29, 2, 1.0, 26)]\n",
      "[0.2, 0.25, 0.3333333333333333, 0.5, 1.0]\n",
      "[2 0]\n",
      "(29, 2, 0.3333333333333333, 26)\n",
      "(29, 2, 0.2, 26)\n"
     ]
    }
   ],
   "source": [
    "tuples = []\n",
    "print(type(tuples))\n",
    "for i in range(5):\n",
    "    heappush(tuples, (29,2,1/(i+1),26))\n",
    "print(tuples)\n",
    "tuples = heapsort(tuples)\n",
    "print(tuples)\n",
    "prios = [tup[2] for tup in tuples]\n",
    "print(prios)\n",
    "prios2alpha = np.multiply(prios,0.5)\n",
    "sampling_probs = np.divide(prios2alpha,np.sum(prios2alpha))\n",
    "sampled_indexes = np.random.choice(len(tuples), 2, p = sampling_probs)\n",
    "print(sampled_indexes)\n",
    "ids = [i for i in sampled_indexes]\n",
    "for i in ids:\n",
    "    sampled_tuples = tuples[i]\n",
    "    print(sampled_tuples)"
   ]
  },
  {
   "cell_type": "code",
   "execution_count": null,
   "metadata": {
    "collapsed": true
   },
   "outputs": [],
   "source": []
  },
  {
   "cell_type": "code",
   "execution_count": null,
   "metadata": {
    "collapsed": true
   },
   "outputs": [],
   "source": []
  },
  {
   "cell_type": "code",
   "execution_count": null,
   "metadata": {
    "collapsed": true
   },
   "outputs": [],
   "source": []
  }
 ],
 "metadata": {
  "kernelspec": {
   "display_name": "Python 3",
   "language": "python",
   "name": "python3"
  },
  "language_info": {
   "codemirror_mode": {
    "name": "ipython",
    "version": 3
   },
   "file_extension": ".py",
   "mimetype": "text/x-python",
   "name": "python",
   "nbconvert_exporter": "python",
   "pygments_lexer": "ipython3",
   "version": "3.6.3"
  }
 },
 "nbformat": 4,
 "nbformat_minor": 2
}
